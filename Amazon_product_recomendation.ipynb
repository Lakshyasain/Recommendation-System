{
 "cells": [
  {
   "cell_type": "code",
   "execution_count": 3,
   "metadata": {
    "colab": {
     "base_uri": "https://localhost:8080/"
    },
    "id": "NsI3A35p3vTd",
    "outputId": "05cfa671-6085-4bfe-84ee-b521aeb550b8"
   },
   "outputs": [
    {
     "name": "stderr",
     "output_type": "stream",
     "text": [
      "[nltk_data] Downloading package punkt to\n",
      "[nltk_data]     C:\\Users\\laksh\\AppData\\Roaming\\nltk_data...\n",
      "[nltk_data]   Package punkt is already up-to-date!\n"
     ]
    },
    {
     "data": {
      "text/plain": [
       "True"
      ]
     },
     "execution_count": 3,
     "metadata": {},
     "output_type": "execute_result"
    }
   ],
   "source": [
    "import numpy as np\n",
    "import pandas as pd\n",
    "import nltk\n",
    "nltk.download('punkt')"
   ]
  },
  {
   "cell_type": "code",
   "execution_count": 4,
   "metadata": {
    "colab": {
     "base_uri": "https://localhost:8080/",
     "height": 423
    },
    "id": "dZt6AlTf-36G",
    "outputId": "6ef8ecd5-4721-4751-a320-fb660f33d305"
   },
   "outputs": [
    {
     "data": {
      "text/html": [
       "<div>\n",
       "<style scoped>\n",
       "    .dataframe tbody tr th:only-of-type {\n",
       "        vertical-align: middle;\n",
       "    }\n",
       "\n",
       "    .dataframe tbody tr th {\n",
       "        vertical-align: top;\n",
       "    }\n",
       "\n",
       "    .dataframe thead th {\n",
       "        text-align: right;\n",
       "    }\n",
       "</style>\n",
       "<table border=\"1\" class=\"dataframe\">\n",
       "  <thead>\n",
       "    <tr style=\"text-align: right;\">\n",
       "      <th></th>\n",
       "      <th>id</th>\n",
       "      <th>Title</th>\n",
       "      <th>Description</th>\n",
       "      <th>Category</th>\n",
       "    </tr>\n",
       "  </thead>\n",
       "  <tbody>\n",
       "    <tr>\n",
       "      <th>0</th>\n",
       "      <td>1</td>\n",
       "      <td>Swissmar Capstore Select Storage Rack for 18-...</td>\n",
       "      <td>Swissmar's capstore select 18 storage unit kee...</td>\n",
       "      <td>Home &amp; Kitchen Kitchen &amp; Dining Kitchen Utens...</td>\n",
       "    </tr>\n",
       "    <tr>\n",
       "      <th>1</th>\n",
       "      <td>2</td>\n",
       "      <td>Gemini200 Delta CV-880 Gold Crown Livery Airc...</td>\n",
       "      <td>Welcome to the exciting world of GeminiJets! O...</td>\n",
       "      <td>Toys &amp; Games Hobbies Models &amp; Model Kits Pre-...</td>\n",
       "    </tr>\n",
       "    <tr>\n",
       "      <th>2</th>\n",
       "      <td>5</td>\n",
       "      <td>Superior Threads 10501-2172 Magnifico Cream P...</td>\n",
       "      <td>For quilting and embroidery, this product is m...</td>\n",
       "      <td>Arts, Crafts &amp; Sewing Sewing Thread &amp; Floss S...</td>\n",
       "    </tr>\n",
       "    <tr>\n",
       "      <th>3</th>\n",
       "      <td>6</td>\n",
       "      <td>Fashion Angels Color Rox Hair Chox Kit</td>\n",
       "      <td>Experiment with the haute trend of hair chalki...</td>\n",
       "      <td>Beauty &amp; Personal Care Hair Care Hair Colorin...</td>\n",
       "    </tr>\n",
       "    <tr>\n",
       "      <th>4</th>\n",
       "      <td>8</td>\n",
       "      <td>Union Creative Giant Killing Figure 05: Daisu...</td>\n",
       "      <td>From Union Creative. Turn your display shelf i...</td>\n",
       "      <td>Toys &amp; Games › Action Figures &amp; Statues › Sta...</td>\n",
       "    </tr>\n",
       "    <tr>\n",
       "      <th>...</th>\n",
       "      <td>...</td>\n",
       "      <td>...</td>\n",
       "      <td>...</td>\n",
       "      <td>...</td>\n",
       "    </tr>\n",
       "    <tr>\n",
       "      <th>663</th>\n",
       "      <td>2482</td>\n",
       "      <td>Rosemery (Rosemary) - Box of Six 20 Stick Hex...</td>\n",
       "      <td>Six tubes, each containing 20 sticks of incens...</td>\n",
       "      <td>Home &amp; Kitchen Home Décor Home Fragrance Ince...</td>\n",
       "    </tr>\n",
       "    <tr>\n",
       "      <th>664</th>\n",
       "      <td>2485</td>\n",
       "      <td>InterDesign Linus Stacking Organizer Bin, Ext...</td>\n",
       "      <td>The InterDesign Linus Organizer Bins are stack...</td>\n",
       "      <td>Home &amp; Kitchen Kitchen &amp; Dining Storage &amp; Org...</td>\n",
       "    </tr>\n",
       "    <tr>\n",
       "      <th>665</th>\n",
       "      <td>2489</td>\n",
       "      <td>Gourmet Rubber Stamps Diagonal Stripes Stenci...</td>\n",
       "      <td>Gourmet Rubber Stamps-Stencil. This delicious ...</td>\n",
       "      <td>Toys &amp; Games Arts &amp; Crafts Printing &amp; Stamping</td>\n",
       "    </tr>\n",
       "    <tr>\n",
       "      <th>666</th>\n",
       "      <td>2496</td>\n",
       "      <td>Spenco RX Arch Cushion Full Length Comfort Su...</td>\n",
       "      <td>Soft, durable arch support. consumers with gen...</td>\n",
       "      <td>Health &amp; Household › Health Care › Foot Healt...</td>\n",
       "    </tr>\n",
       "    <tr>\n",
       "      <th>667</th>\n",
       "      <td>2496</td>\n",
       "      <td>Car Kits</td>\n",
       "      <td>Kits for Car</td>\n",
       "      <td>Car Accessories</td>\n",
       "    </tr>\n",
       "  </tbody>\n",
       "</table>\n",
       "<p>668 rows × 4 columns</p>\n",
       "</div>"
      ],
      "text/plain": [
       "       id                                              Title  \\\n",
       "0       1   Swissmar Capstore Select Storage Rack for 18-...   \n",
       "1       2   Gemini200 Delta CV-880 Gold Crown Livery Airc...   \n",
       "2       5   Superior Threads 10501-2172 Magnifico Cream P...   \n",
       "3       6            Fashion Angels Color Rox Hair Chox Kit    \n",
       "4       8   Union Creative Giant Killing Figure 05: Daisu...   \n",
       "..    ...                                                ...   \n",
       "663  2482   Rosemery (Rosemary) - Box of Six 20 Stick Hex...   \n",
       "664  2485   InterDesign Linus Stacking Organizer Bin, Ext...   \n",
       "665  2489   Gourmet Rubber Stamps Diagonal Stripes Stenci...   \n",
       "666  2496   Spenco RX Arch Cushion Full Length Comfort Su...   \n",
       "667  2496                                           Car Kits   \n",
       "\n",
       "                                           Description  \\\n",
       "0    Swissmar's capstore select 18 storage unit kee...   \n",
       "1    Welcome to the exciting world of GeminiJets! O...   \n",
       "2    For quilting and embroidery, this product is m...   \n",
       "3    Experiment with the haute trend of hair chalki...   \n",
       "4    From Union Creative. Turn your display shelf i...   \n",
       "..                                                 ...   \n",
       "663  Six tubes, each containing 20 sticks of incens...   \n",
       "664  The InterDesign Linus Organizer Bins are stack...   \n",
       "665  Gourmet Rubber Stamps-Stencil. This delicious ...   \n",
       "666  Soft, durable arch support. consumers with gen...   \n",
       "667                                       Kits for Car   \n",
       "\n",
       "                                              Category  \n",
       "0     Home & Kitchen Kitchen & Dining Kitchen Utens...  \n",
       "1     Toys & Games Hobbies Models & Model Kits Pre-...  \n",
       "2     Arts, Crafts & Sewing Sewing Thread & Floss S...  \n",
       "3     Beauty & Personal Care Hair Care Hair Colorin...  \n",
       "4     Toys & Games › Action Figures & Statues › Sta...  \n",
       "..                                                 ...  \n",
       "663   Home & Kitchen Home Décor Home Fragrance Ince...  \n",
       "664   Home & Kitchen Kitchen & Dining Storage & Org...  \n",
       "665    Toys & Games Arts & Crafts Printing & Stamping   \n",
       "666   Health & Household › Health Care › Foot Healt...  \n",
       "667                                    Car Accessories  \n",
       "\n",
       "[668 rows x 4 columns]"
      ]
     },
     "execution_count": 4,
     "metadata": {},
     "output_type": "execute_result"
    }
   ],
   "source": [
    "amazon_df = pd.read_csv(\"amazon_product.csv\")\n",
    "amazon_df"
   ]
  },
  {
   "cell_type": "code",
   "execution_count": 5,
   "metadata": {
    "colab": {
     "base_uri": "https://localhost:8080/"
    },
    "id": "OLD-cjZs-388",
    "outputId": "2a76ea5e-cbdf-4653-be60-cbc28a915d2c"
   },
   "outputs": [
    {
     "data": {
      "text/plain": [
       "(668, 4)"
      ]
     },
     "execution_count": 5,
     "metadata": {},
     "output_type": "execute_result"
    }
   ],
   "source": [
    "amazon_df.shape"
   ]
  },
  {
   "cell_type": "code",
   "execution_count": 6,
   "metadata": {
    "id": "LDygOPck-3_t"
   },
   "outputs": [],
   "source": [
    "amazon_df.drop(\"id\",axis=1,inplace=True)"
   ]
  },
  {
   "cell_type": "code",
   "execution_count": 7,
   "metadata": {
    "colab": {
     "base_uri": "https://localhost:8080/",
     "height": 206
    },
    "id": "gAfUHryO-4Ck",
    "outputId": "61840838-37a6-4341-bcb9-165e0a3d61e5"
   },
   "outputs": [
    {
     "data": {
      "text/html": [
       "<div>\n",
       "<style scoped>\n",
       "    .dataframe tbody tr th:only-of-type {\n",
       "        vertical-align: middle;\n",
       "    }\n",
       "\n",
       "    .dataframe tbody tr th {\n",
       "        vertical-align: top;\n",
       "    }\n",
       "\n",
       "    .dataframe thead th {\n",
       "        text-align: right;\n",
       "    }\n",
       "</style>\n",
       "<table border=\"1\" class=\"dataframe\">\n",
       "  <thead>\n",
       "    <tr style=\"text-align: right;\">\n",
       "      <th></th>\n",
       "      <th>Title</th>\n",
       "      <th>Description</th>\n",
       "      <th>Category</th>\n",
       "    </tr>\n",
       "  </thead>\n",
       "  <tbody>\n",
       "    <tr>\n",
       "      <th>0</th>\n",
       "      <td>Swissmar Capstore Select Storage Rack for 18-...</td>\n",
       "      <td>Swissmar's capstore select 18 storage unit kee...</td>\n",
       "      <td>Home &amp; Kitchen Kitchen &amp; Dining Kitchen Utens...</td>\n",
       "    </tr>\n",
       "    <tr>\n",
       "      <th>1</th>\n",
       "      <td>Gemini200 Delta CV-880 Gold Crown Livery Airc...</td>\n",
       "      <td>Welcome to the exciting world of GeminiJets! O...</td>\n",
       "      <td>Toys &amp; Games Hobbies Models &amp; Model Kits Pre-...</td>\n",
       "    </tr>\n",
       "    <tr>\n",
       "      <th>2</th>\n",
       "      <td>Superior Threads 10501-2172 Magnifico Cream P...</td>\n",
       "      <td>For quilting and embroidery, this product is m...</td>\n",
       "      <td>Arts, Crafts &amp; Sewing Sewing Thread &amp; Floss S...</td>\n",
       "    </tr>\n",
       "    <tr>\n",
       "      <th>3</th>\n",
       "      <td>Fashion Angels Color Rox Hair Chox Kit</td>\n",
       "      <td>Experiment with the haute trend of hair chalki...</td>\n",
       "      <td>Beauty &amp; Personal Care Hair Care Hair Colorin...</td>\n",
       "    </tr>\n",
       "    <tr>\n",
       "      <th>4</th>\n",
       "      <td>Union Creative Giant Killing Figure 05: Daisu...</td>\n",
       "      <td>From Union Creative. Turn your display shelf i...</td>\n",
       "      <td>Toys &amp; Games › Action Figures &amp; Statues › Sta...</td>\n",
       "    </tr>\n",
       "  </tbody>\n",
       "</table>\n",
       "</div>"
      ],
      "text/plain": [
       "                                               Title  \\\n",
       "0   Swissmar Capstore Select Storage Rack for 18-...   \n",
       "1   Gemini200 Delta CV-880 Gold Crown Livery Airc...   \n",
       "2   Superior Threads 10501-2172 Magnifico Cream P...   \n",
       "3            Fashion Angels Color Rox Hair Chox Kit    \n",
       "4   Union Creative Giant Killing Figure 05: Daisu...   \n",
       "\n",
       "                                         Description  \\\n",
       "0  Swissmar's capstore select 18 storage unit kee...   \n",
       "1  Welcome to the exciting world of GeminiJets! O...   \n",
       "2  For quilting and embroidery, this product is m...   \n",
       "3  Experiment with the haute trend of hair chalki...   \n",
       "4  From Union Creative. Turn your display shelf i...   \n",
       "\n",
       "                                            Category  \n",
       "0   Home & Kitchen Kitchen & Dining Kitchen Utens...  \n",
       "1   Toys & Games Hobbies Models & Model Kits Pre-...  \n",
       "2   Arts, Crafts & Sewing Sewing Thread & Floss S...  \n",
       "3   Beauty & Personal Care Hair Care Hair Colorin...  \n",
       "4   Toys & Games › Action Figures & Statues › Sta...  "
      ]
     },
     "execution_count": 7,
     "metadata": {},
     "output_type": "execute_result"
    }
   ],
   "source": [
    "amazon_df.head()"
   ]
  },
  {
   "cell_type": "code",
   "execution_count": 8,
   "metadata": {
    "colab": {
     "base_uri": "https://localhost:8080/"
    },
    "id": "mn-aCSMQ-4Fz",
    "outputId": "9938518c-73d5-457f-8b88-03ceb20b1541"
   },
   "outputs": [
    {
     "data": {
      "text/plain": [
       "Title          0\n",
       "Description    0\n",
       "Category       0\n",
       "dtype: int64"
      ]
     },
     "execution_count": 8,
     "metadata": {},
     "output_type": "execute_result"
    }
   ],
   "source": [
    "amazon_df.isnull().sum()"
   ]
  },
  {
   "cell_type": "code",
   "execution_count": 9,
   "metadata": {
    "id": "rx7USVkdue2o"
   },
   "outputs": [],
   "source": [
    "from nltk.stem.snowball import SnowballStemmer\n",
    "stemmer = SnowballStemmer(\"english\")"
   ]
  },
  {
   "cell_type": "code",
   "execution_count": 10,
   "metadata": {
    "id": "3JmLSLO_ue5S"
   },
   "outputs": [],
   "source": [
    "def tokenize_stem(text):\n",
    "  tokens = nltk.word_tokenize(text.lower())\n",
    "  stemmed = [stemmer.stem(word) for word in tokens]\n",
    "  return \" \".join(stemmed)"
   ]
  },
  {
   "cell_type": "code",
   "execution_count": 11,
   "metadata": {
    "id": "tssbJsh7ue8G"
   },
   "outputs": [],
   "source": [
    "amazon_df[\"stemmed_tokens\"] = amazon_df.apply(lambda row: tokenize_stem(row[\"Title\"] + \" \" + row[\"Description\"]),axis=1)"
   ]
  },
  {
   "cell_type": "code",
   "execution_count": 12,
   "metadata": {
    "colab": {
     "base_uri": "https://localhost:8080/",
     "height": 293
    },
    "id": "3KBylYsyue_x",
    "outputId": "234f54f5-3b74-41a9-81a9-b5df0e177084"
   },
   "outputs": [
    {
     "data": {
      "text/html": [
       "<div>\n",
       "<style scoped>\n",
       "    .dataframe tbody tr th:only-of-type {\n",
       "        vertical-align: middle;\n",
       "    }\n",
       "\n",
       "    .dataframe tbody tr th {\n",
       "        vertical-align: top;\n",
       "    }\n",
       "\n",
       "    .dataframe thead th {\n",
       "        text-align: right;\n",
       "    }\n",
       "</style>\n",
       "<table border=\"1\" class=\"dataframe\">\n",
       "  <thead>\n",
       "    <tr style=\"text-align: right;\">\n",
       "      <th></th>\n",
       "      <th>Title</th>\n",
       "      <th>Description</th>\n",
       "      <th>Category</th>\n",
       "      <th>stemmed_tokens</th>\n",
       "    </tr>\n",
       "  </thead>\n",
       "  <tbody>\n",
       "    <tr>\n",
       "      <th>0</th>\n",
       "      <td>Swissmar Capstore Select Storage Rack for 18-...</td>\n",
       "      <td>Swissmar's capstore select 18 storage unit kee...</td>\n",
       "      <td>Home &amp; Kitchen Kitchen &amp; Dining Kitchen Utens...</td>\n",
       "      <td>swissmar capstor select storag rack for 18-pac...</td>\n",
       "    </tr>\n",
       "    <tr>\n",
       "      <th>1</th>\n",
       "      <td>Gemini200 Delta CV-880 Gold Crown Livery Airc...</td>\n",
       "      <td>Welcome to the exciting world of GeminiJets! O...</td>\n",
       "      <td>Toys &amp; Games Hobbies Models &amp; Model Kits Pre-...</td>\n",
       "      <td>gemini200 delta cv-880 gold crown liveri aircr...</td>\n",
       "    </tr>\n",
       "    <tr>\n",
       "      <th>2</th>\n",
       "      <td>Superior Threads 10501-2172 Magnifico Cream P...</td>\n",
       "      <td>For quilting and embroidery, this product is m...</td>\n",
       "      <td>Arts, Crafts &amp; Sewing Sewing Thread &amp; Floss S...</td>\n",
       "      <td>superior thread 10501-2172 magnifico cream puf...</td>\n",
       "    </tr>\n",
       "    <tr>\n",
       "      <th>3</th>\n",
       "      <td>Fashion Angels Color Rox Hair Chox Kit</td>\n",
       "      <td>Experiment with the haute trend of hair chalki...</td>\n",
       "      <td>Beauty &amp; Personal Care Hair Care Hair Colorin...</td>\n",
       "      <td>fashion angel color rox hair chox kit experi w...</td>\n",
       "    </tr>\n",
       "    <tr>\n",
       "      <th>4</th>\n",
       "      <td>Union Creative Giant Killing Figure 05: Daisu...</td>\n",
       "      <td>From Union Creative. Turn your display shelf i...</td>\n",
       "      <td>Toys &amp; Games › Action Figures &amp; Statues › Sta...</td>\n",
       "      <td>union creativ giant kill figur 05 : daisuk tsu...</td>\n",
       "    </tr>\n",
       "  </tbody>\n",
       "</table>\n",
       "</div>"
      ],
      "text/plain": [
       "                                               Title  \\\n",
       "0   Swissmar Capstore Select Storage Rack for 18-...   \n",
       "1   Gemini200 Delta CV-880 Gold Crown Livery Airc...   \n",
       "2   Superior Threads 10501-2172 Magnifico Cream P...   \n",
       "3            Fashion Angels Color Rox Hair Chox Kit    \n",
       "4   Union Creative Giant Killing Figure 05: Daisu...   \n",
       "\n",
       "                                         Description  \\\n",
       "0  Swissmar's capstore select 18 storage unit kee...   \n",
       "1  Welcome to the exciting world of GeminiJets! O...   \n",
       "2  For quilting and embroidery, this product is m...   \n",
       "3  Experiment with the haute trend of hair chalki...   \n",
       "4  From Union Creative. Turn your display shelf i...   \n",
       "\n",
       "                                            Category  \\\n",
       "0   Home & Kitchen Kitchen & Dining Kitchen Utens...   \n",
       "1   Toys & Games Hobbies Models & Model Kits Pre-...   \n",
       "2   Arts, Crafts & Sewing Sewing Thread & Floss S...   \n",
       "3   Beauty & Personal Care Hair Care Hair Colorin...   \n",
       "4   Toys & Games › Action Figures & Statues › Sta...   \n",
       "\n",
       "                                      stemmed_tokens  \n",
       "0  swissmar capstor select storag rack for 18-pac...  \n",
       "1  gemini200 delta cv-880 gold crown liveri aircr...  \n",
       "2  superior thread 10501-2172 magnifico cream puf...  \n",
       "3  fashion angel color rox hair chox kit experi w...  \n",
       "4  union creativ giant kill figur 05 : daisuk tsu...  "
      ]
     },
     "execution_count": 12,
     "metadata": {},
     "output_type": "execute_result"
    }
   ],
   "source": [
    "amazon_df.head()"
   ]
  },
  {
   "cell_type": "code",
   "execution_count": 13,
   "metadata": {
    "id": "g5kmNqGMufCw"
   },
   "outputs": [],
   "source": [
    "from sklearn.feature_extraction.text import TfidfVectorizer\n",
    "from sklearn.metrics.pairwise import cosine_similarity\n",
    "tfidfv = TfidfVectorizer(tokenizer = tokenize_stem)"
   ]
  },
  {
   "cell_type": "code",
   "execution_count": 14,
   "metadata": {
    "id": "MxdS30tUufGK"
   },
   "outputs": [],
   "source": [
    "def cosine_sim(text1, text2):\n",
    "  text1_concatenated = \" \".join(text1)\n",
    "  text2_concatenated = \" \".join(text2)\n",
    "  tfidf_matrix = tfidfv.fit_transform([text1_concatenated,text2_concatenated])\n",
    "  return cosine_similarity(tfidf_matrix)[0][1]"
   ]
  },
  {
   "cell_type": "code",
   "execution_count": 15,
   "metadata": {
    "id": "pz71Bg1b9wmy"
   },
   "outputs": [],
   "source": [
    "def search_product(query):\n",
    "  stemmed_query = tokenize_stem(query)\n",
    "  amazon_df[\"similarity\"] = amazon_df[\"stemmed_tokens\"].apply(lambda x:cosine_sim(stemmed_query,x))\n",
    "  res = amazon_df.sort_values(by = [\"similarity\"], ascending=False).head(10)[[\"Title\",\"Description\",\"Category\"]]\n",
    "  return res"
   ]
  },
  {
   "cell_type": "code",
   "execution_count": 16,
   "metadata": {
    "colab": {
     "base_uri": "https://localhost:8080/",
     "height": 36
    },
    "id": "n8suO5tL9wtj",
    "outputId": "257b2970-f2e8-4133-fc5d-52a58d914e36"
   },
   "outputs": [
    {
     "data": {
      "text/plain": [
       "' Coronet Full Cheek Snaffle Pony Bit '"
      ]
     },
     "execution_count": 16,
     "metadata": {},
     "output_type": "execute_result"
    }
   ],
   "source": [
    "amazon_df[\"Title\"][20]"
   ]
  },
  {
   "cell_type": "code",
   "execution_count": 17,
   "metadata": {
    "colab": {
     "base_uri": "https://localhost:8080/",
     "height": 419
    },
    "id": "vf4Wu9Q29wp9",
    "outputId": "adb1dc95-4a65-489e-b46e-a11195a1bc50"
   },
   "outputs": [
    {
     "name": "stderr",
     "output_type": "stream",
     "text": [
      "C:\\ProgramData\\anaconda3\\Lib\\site-packages\\sklearn\\feature_extraction\\text.py:525: UserWarning: The parameter 'token_pattern' will not be used since 'tokenizer' is not None'\n",
      "  warnings.warn(\n"
     ]
    },
    {
     "data": {
      "text/html": [
       "<div>\n",
       "<style scoped>\n",
       "    .dataframe tbody tr th:only-of-type {\n",
       "        vertical-align: middle;\n",
       "    }\n",
       "\n",
       "    .dataframe tbody tr th {\n",
       "        vertical-align: top;\n",
       "    }\n",
       "\n",
       "    .dataframe thead th {\n",
       "        text-align: right;\n",
       "    }\n",
       "</style>\n",
       "<table border=\"1\" class=\"dataframe\">\n",
       "  <thead>\n",
       "    <tr style=\"text-align: right;\">\n",
       "      <th></th>\n",
       "      <th>Title</th>\n",
       "      <th>Description</th>\n",
       "      <th>Category</th>\n",
       "    </tr>\n",
       "  </thead>\n",
       "  <tbody>\n",
       "    <tr>\n",
       "      <th>20</th>\n",
       "      <td>Coronet Full Cheek Snaffle Pony Bit</td>\n",
       "      <td>Coronet Full Cheek Pony Snaffle Bit The Full c...</td>\n",
       "      <td>Sports &amp; Outdoors Sports &amp; Fitness Other Spor...</td>\n",
       "    </tr>\n",
       "    <tr>\n",
       "      <th>304</th>\n",
       "      <td>Dodgeball - Peter La Fleur</td>\n",
       "      <td>Funko is a pop culture licensed-focused toy co...</td>\n",
       "      <td>Toys &amp; Games Action Figures &amp; Statues Action ...</td>\n",
       "    </tr>\n",
       "    <tr>\n",
       "      <th>243</th>\n",
       "      <td>The Body Shop Drops of Youth Liquid Peel, 4.9...</td>\n",
       "      <td>The Drops of Youth™ Youth Liquid Peel exfoliat...</td>\n",
       "      <td>Automotive Motorcycle &amp; Powersports Parts</td>\n",
       "    </tr>\n",
       "    <tr>\n",
       "      <th>57</th>\n",
       "      <td>NAO Love Always Porcelain Figurine</td>\n",
       "      <td>Nao porcelain sculptures are hand crafted in V...</td>\n",
       "      <td>Home &amp; Kitchen Home Décor Home Décor Accents ...</td>\n",
       "    </tr>\n",
       "    <tr>\n",
       "      <th>551</th>\n",
       "      <td>C2G 03836 2-Port Cat5e Surface Mount Box, Ivory</td>\n",
       "      <td>Ideal for surface mount applications, especial...</td>\n",
       "      <td>Electronics Computers &amp; Accessories Computer ...</td>\n",
       "    </tr>\n",
       "    <tr>\n",
       "      <th>348</th>\n",
       "      <td>THE ONE Ankle Brace Black (EA)</td>\n",
       "      <td>What you'll enjoy about the one ankle brace bl...</td>\n",
       "      <td>Health &amp; Household › Medical Supplies &amp; Equip...</td>\n",
       "    </tr>\n",
       "    <tr>\n",
       "      <th>415</th>\n",
       "      <td>Xit XT5CL 5-Piece Deluxe Cleaning Kit (White/...</td>\n",
       "      <td>The Xit 5 piece cleaning kit is the perfect ki...</td>\n",
       "      <td>Electronics › Camera &amp; Photo › Accessories › ...</td>\n",
       "    </tr>\n",
       "    <tr>\n",
       "      <th>527</th>\n",
       "      <td>Cuteque International Victorian Lace Rose wit...</td>\n",
       "      <td>Cuteque International Inc. offered Victorian L...</td>\n",
       "      <td>Home &amp; Kitchen Home Décor Artificial Plants &amp;...</td>\n",
       "    </tr>\n",
       "    <tr>\n",
       "      <th>87</th>\n",
       "      <td>M.V. Trading Silicon Food Sushi Mold Cup for ...</td>\n",
       "      <td>Creating muffins, cupcakes, brownies, or chees...</td>\n",
       "      <td>Home &amp; Kitchen Kitchen &amp; Dining Bakeware Past...</td>\n",
       "    </tr>\n",
       "    <tr>\n",
       "      <th>84</th>\n",
       "      <td>Body Fantasies Fresh White Musk 3 Piece Gift ...</td>\n",
       "      <td>Blends the clean fresh natural scents of brigh...</td>\n",
       "      <td>Beauty &amp; Personal Care Fragrance Women's Sets</td>\n",
       "    </tr>\n",
       "  </tbody>\n",
       "</table>\n",
       "</div>"
      ],
      "text/plain": [
       "                                                 Title  \\\n",
       "20                Coronet Full Cheek Snaffle Pony Bit    \n",
       "304                        Dodgeball - Peter La Fleur    \n",
       "243   The Body Shop Drops of Youth Liquid Peel, 4.9...   \n",
       "57                 NAO Love Always Porcelain Figurine    \n",
       "551   C2G 03836 2-Port Cat5e Surface Mount Box, Ivory    \n",
       "348                    THE ONE Ankle Brace Black (EA)    \n",
       "415   Xit XT5CL 5-Piece Deluxe Cleaning Kit (White/...   \n",
       "527   Cuteque International Victorian Lace Rose wit...   \n",
       "87    M.V. Trading Silicon Food Sushi Mold Cup for ...   \n",
       "84    Body Fantasies Fresh White Musk 3 Piece Gift ...   \n",
       "\n",
       "                                           Description  \\\n",
       "20   Coronet Full Cheek Pony Snaffle Bit The Full c...   \n",
       "304  Funko is a pop culture licensed-focused toy co...   \n",
       "243  The Drops of Youth™ Youth Liquid Peel exfoliat...   \n",
       "57   Nao porcelain sculptures are hand crafted in V...   \n",
       "551  Ideal for surface mount applications, especial...   \n",
       "348  What you'll enjoy about the one ankle brace bl...   \n",
       "415  The Xit 5 piece cleaning kit is the perfect ki...   \n",
       "527  Cuteque International Inc. offered Victorian L...   \n",
       "87   Creating muffins, cupcakes, brownies, or chees...   \n",
       "84   Blends the clean fresh natural scents of brigh...   \n",
       "\n",
       "                                              Category  \n",
       "20    Sports & Outdoors Sports & Fitness Other Spor...  \n",
       "304   Toys & Games Action Figures & Statues Action ...  \n",
       "243         Automotive Motorcycle & Powersports Parts   \n",
       "57    Home & Kitchen Home Décor Home Décor Accents ...  \n",
       "551   Electronics Computers & Accessories Computer ...  \n",
       "348   Health & Household › Medical Supplies & Equip...  \n",
       "415   Electronics › Camera & Photo › Accessories › ...  \n",
       "527   Home & Kitchen Home Décor Artificial Plants &...  \n",
       "87    Home & Kitchen Kitchen & Dining Bakeware Past...  \n",
       "84      Beauty & Personal Care Fragrance Women's Sets   "
      ]
     },
     "execution_count": 17,
     "metadata": {},
     "output_type": "execute_result"
    }
   ],
   "source": [
    "search_product(\" Coronet Full Cheek Snaffle Pony Bit \")"
   ]
  }
 ],
 "metadata": {
  "colab": {
   "provenance": []
  },
  "kernelspec": {
   "display_name": "Python 3 (ipykernel)",
   "language": "python",
   "name": "python3"
  },
  "language_info": {
   "codemirror_mode": {
    "name": "ipython",
    "version": 3
   },
   "file_extension": ".py",
   "mimetype": "text/x-python",
   "name": "python",
   "nbconvert_exporter": "python",
   "pygments_lexer": "ipython3",
   "version": "3.11.4"
  }
 },
 "nbformat": 4,
 "nbformat_minor": 1
}
